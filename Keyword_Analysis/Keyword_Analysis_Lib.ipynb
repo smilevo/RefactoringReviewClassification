{
 "cells": [
  {
   "cell_type": "code",
   "execution_count": null,
   "id": "eac8a0b2",
   "metadata": {},
   "outputs": [],
   "source": [
    "import pandas as pd\n",
    "import matplotlib.pyplot as plt\n",
    "import math\n",
    "\n",
    "from wordcloud import WordCloud"
   ]
  },
  {
   "cell_type": "code",
   "execution_count": null,
   "id": "09cc6d44",
   "metadata": {},
   "outputs": [],
   "source": [
    "# generate wordcloud\n",
    "def generate_wordcloud(word_count):\n",
    "    wc = WordCloud(width = 3000, height = 3000,\n",
    "                    background_color ='white',\n",
    "                    min_font_size = 10, max_words=100).generate_from_frequencies(word_count)\n",
    "\n",
    "    plt.imshow(wc)\n",
    "    plt.savefig(\"output/Keyword_Frequence_Wordcloud.jpg\")"
   ]
  },
  {
   "cell_type": "code",
   "execution_count": null,
   "id": "dd0e174f",
   "metadata": {},
   "outputs": [],
   "source": [
    "def normalize_c_tf_idf(word, cat_freqs, doc_freqs):\n",
    "    cat_word_count = {c:sum(word_count_category[c].values()) for c in word_count_category}\n",
    "    A = sum(cat_word_count.values())/len(cat_word_count)\n",
    "\n",
    "    norm_c_tf = cat_freqs[word] / sum(cat_freqs.values())\n",
    "    # idf = sum(doc_freqs.values()) / doc_freqs[word]\n",
    "    idf = 1 + A / doc_freqs[word]\n",
    "    return norm_c_tf * math.log(idf)    "
   ]
  },
  {
   "cell_type": "code",
   "execution_count": null,
   "id": "37bc289b",
   "metadata": {},
   "outputs": [],
   "source": [
    "def create_keyword_ctfidf(word_count_category, word_count, top_n = 5, min_occurance = 0):\n",
    "    res_df = pd.DataFrame()\n",
    "    for cat in word_count_category:\n",
    "        ctfid_scores = [\"\"]*top_n\n",
    "        \n",
    "        sorted_cat = dict(sorted(word_count_category[cat].items(), key=lambda item: item[1], reverse=True))\n",
    "        # ratios = {word:normalized_c_tf_idf(word,word_count_category[cat],doc_count) for word in sorted_cat  if sorted_cat[word] > min_occurance}\n",
    "        ratios = {word:normalize_c_tf_idf(word,word_count_category[cat],word_count) for word in sorted_cat  if sorted_cat[word] > min_occurance}\n",
    "        sorted_ratios = dict(sorted(ratios.items(), key=lambda item: item[1], reverse=True))\n",
    "        \n",
    "        for i in range(min(top_n, len(sorted_ratios))):\n",
    "            word = list(sorted_ratios.keys())[i]\n",
    "            ctfid_scores[i] = f\"{word}: {round(sorted_ratios[word],3)}\"\n",
    "        res_df.insert(len(res_df.columns),cat, ctfid_scores, True)\n",
    "        \n",
    "    return res_df"
   ]
  }
 ],
 "metadata": {
  "kernelspec": {
   "display_name": "Python 3 (ipykernel)",
   "language": "python",
   "name": "python3"
  },
  "language_info": {
   "codemirror_mode": {
    "name": "ipython",
    "version": 3
   },
   "file_extension": ".py",
   "mimetype": "text/x-python",
   "name": "python",
   "nbconvert_exporter": "python",
   "pygments_lexer": "ipython3",
   "version": "3.9.12"
  }
 },
 "nbformat": 4,
 "nbformat_minor": 5
}
